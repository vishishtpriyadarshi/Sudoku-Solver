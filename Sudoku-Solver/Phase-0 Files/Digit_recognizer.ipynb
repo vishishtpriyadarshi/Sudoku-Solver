{
  "nbformat": 4,
  "nbformat_minor": 0,
  "metadata": {
    "colab": {
      "name": "Digit recogn.",
      "provenance": [],
      "collapsed_sections": []
    },
    "kernelspec": {
      "name": "python3",
      "display_name": "Python 3"
    },
    "accelerator": "GPU"
  },
  "cells": [
    {
      "cell_type": "code",
      "metadata": {
        "id": "KkEll2Ei-yc_",
        "colab_type": "code",
        "outputId": "b88e5421-987f-49fd-dfd5-482d3a65f28e",
        "colab": {
          "base_uri": "https://localhost:8080/",
          "height": 219
        }
      },
      "source": [
        "#pip install tensorflow==2.0.0-alpha0\n",
        "#!pip show tensorflow"
      ],
      "execution_count": 0,
      "outputs": [
        {
          "output_type": "stream",
          "text": [
            "Name: tensorflow\n",
            "Version: 1.15.0\n",
            "Summary: TensorFlow is an open source machine learning framework for everyone.\n",
            "Home-page: https://www.tensorflow.org/\n",
            "Author: Google Inc.\n",
            "Author-email: packages@tensorflow.org\n",
            "License: Apache 2.0\n",
            "Location: /usr/local/lib/python3.6/dist-packages\n",
            "Requires: astor, tensorflow-estimator, absl-py, protobuf, keras-preprocessing, google-pasta, opt-einsum, gast, termcolor, tensorboard, wheel, grpcio, wrapt, six, keras-applications, numpy\n",
            "Required-by: stable-baselines, magenta, fancyimpute\n"
          ],
          "name": "stdout"
        }
      ]
    },
    {
      "cell_type": "code",
      "metadata": {
        "id": "KmajAey_--CG",
        "colab_type": "code",
        "colab": {}
      },
      "source": [
        "import zipfile\n",
        "\n",
        "local_zip = '/content/digits3.zip'\n",
        "zip_ref = zipfile.ZipFile(local_zip, 'r')\n",
        "zip_ref.extractall('/content')\n",
        "zip_ref.close()"
      ],
      "execution_count": 0,
      "outputs": []
    },
    {
      "cell_type": "code",
      "metadata": {
        "id": "73sBLjye_ktt",
        "colab_type": "code",
        "outputId": "68b66bd8-0810-40ab-9687-e416a4b453dc",
        "colab": {
          "base_uri": "https://localhost:8080/",
          "height": 35
        }
      },
      "source": [
        "from tensorflow.keras.preprocessing.image import ImageDataGenerator\n",
        "import os\n",
        "\n",
        "train_dir = os.path.join('/content/digits3')\n",
        "\n",
        "train_datagen = ImageDataGenerator(rescale = 1/255)\n",
        "\n",
        "train_generator = train_datagen.flow_from_directory(train_dir ,\n",
        "                                                    target_size = (28,28) ,\n",
        "                                                    batch_size = 35 ,\n",
        "                                                    color_mode = 'grayscale',\n",
        "                                                    class_mode = \"categorical\" )\n"
      ],
      "execution_count": 0,
      "outputs": [
        {
          "output_type": "stream",
          "text": [
            "Found 775 images belonging to 10 classes.\n"
          ],
          "name": "stdout"
        }
      ]
    },
    {
      "cell_type": "code",
      "metadata": {
        "id": "pBXAwK4VAfdb",
        "colab_type": "code",
        "outputId": "54ea9c9a-d779-463b-c0b5-9cb1039480bb",
        "colab": {
          "base_uri": "https://localhost:8080/",
          "height": 419
        }
      },
      "source": [
        "import tensorflow as tf\n",
        "\n",
        "model = tf.keras.models.Sequential([\n",
        "                                    tf.keras.layers.Conv2D(128,(3,3),padding=\"same\",activation = 'relu',input_shape =(28,28,1)),\n",
        "                                    #tf.keras.layers.Conv2D(128,(3,3),padding=\"same\",activation = 'relu'),\n",
        "                                    #tf.keras.layers.MaxPooling2D((2,2),strides=(1,1)),\n",
        "                                    tf.keras.layers.Flatten(),\n",
        "                                    tf.keras.layers.Dense(256,activation = 'relu'),\n",
        "                                    tf.keras.layers.Dense(128,activation = 'relu'),\n",
        "                                    tf.keras.layers.Dense(10,activation = 'softmax')\n",
        "])\n",
        "\n",
        "model.summary()"
      ],
      "execution_count": 0,
      "outputs": [
        {
          "output_type": "stream",
          "text": [
            "WARNING:tensorflow:From /usr/local/lib/python3.6/dist-packages/tensorflow_core/python/ops/resource_variable_ops.py:1630: calling BaseResourceVariable.__init__ (from tensorflow.python.ops.resource_variable_ops) with constraint is deprecated and will be removed in a future version.\n",
            "Instructions for updating:\n",
            "If using Keras pass *_constraint arguments to layers.\n",
            "Model: \"sequential\"\n",
            "_________________________________________________________________\n",
            "Layer (type)                 Output Shape              Param #   \n",
            "=================================================================\n",
            "conv2d (Conv2D)              (None, 28, 28, 128)       1280      \n",
            "_________________________________________________________________\n",
            "flatten (Flatten)            (None, 100352)            0         \n",
            "_________________________________________________________________\n",
            "dense (Dense)                (None, 256)               25690368  \n",
            "_________________________________________________________________\n",
            "dense_1 (Dense)              (None, 128)               32896     \n",
            "_________________________________________________________________\n",
            "dense_2 (Dense)              (None, 10)                1290      \n",
            "=================================================================\n",
            "Total params: 25,725,834\n",
            "Trainable params: 25,725,834\n",
            "Non-trainable params: 0\n",
            "_________________________________________________________________\n"
          ],
          "name": "stdout"
        }
      ]
    },
    {
      "cell_type": "code",
      "metadata": {
        "id": "E_8iEfMLBeQ4",
        "colab_type": "code",
        "colab": {}
      },
      "source": [
        "#from tensorflow.keras.optimizers import Adam\n",
        "\n",
        "model.compile(loss = 'categorical_crossentropy',\n",
        "              optimizer = 'adam',\n",
        "              metrics = ['accuracy'])"
      ],
      "execution_count": 0,
      "outputs": []
    },
    {
      "cell_type": "code",
      "metadata": {
        "id": "JrfP4jqaC_2W",
        "colab_type": "code",
        "outputId": "fde08a8c-1d0d-4488-e211-056610c8f609",
        "colab": {
          "base_uri": "https://localhost:8080/",
          "height": 1000
        }
      },
      "source": [
        "history = model.fit_generator(train_generator,\n",
        "                              epochs = 30,\n",
        "                              verbose = 1)"
      ],
      "execution_count": 0,
      "outputs": [
        {
          "output_type": "stream",
          "text": [
            "Epoch 1/30\n",
            "23/23 [==============================] - 7s 297ms/step - loss: 0.7702 - acc: 0.7729\n",
            "Epoch 2/30\n",
            "23/23 [==============================] - 0s 12ms/step - loss: 0.1069 - acc: 0.9690\n",
            "Epoch 3/30\n",
            "23/23 [==============================] - 0s 15ms/step - loss: 0.0548 - acc: 0.9884\n",
            "Epoch 4/30\n",
            "23/23 [==============================] - 0s 14ms/step - loss: 0.0378 - acc: 0.9858\n",
            "Epoch 5/30\n",
            "23/23 [==============================] - 0s 16ms/step - loss: 0.0145 - acc: 0.9987\n",
            "Epoch 6/30\n",
            "23/23 [==============================] - 0s 14ms/step - loss: 0.0224 - acc: 0.9961\n",
            "Epoch 7/30\n",
            "23/23 [==============================] - 0s 14ms/step - loss: 0.0111 - acc: 0.9987\n",
            "Epoch 8/30\n",
            "23/23 [==============================] - 0s 15ms/step - loss: 0.0075 - acc: 0.9974\n",
            "Epoch 9/30\n",
            "23/23 [==============================] - 0s 14ms/step - loss: 0.0093 - acc: 0.9987\n",
            "Epoch 10/30\n",
            "23/23 [==============================] - 0s 14ms/step - loss: 0.0110 - acc: 0.9987\n",
            "Epoch 11/30\n",
            "23/23 [==============================] - 0s 15ms/step - loss: 0.0054 - acc: 0.9987\n",
            "Epoch 12/30\n",
            "23/23 [==============================] - 0s 15ms/step - loss: 0.0097 - acc: 0.9987\n",
            "Epoch 13/30\n",
            "23/23 [==============================] - 0s 14ms/step - loss: 0.0017 - acc: 1.0000\n",
            "Epoch 14/30\n",
            "23/23 [==============================] - 0s 16ms/step - loss: 0.0175 - acc: 0.9974\n",
            "Epoch 15/30\n",
            "23/23 [==============================] - 0s 14ms/step - loss: 0.0045 - acc: 0.9987\n",
            "Epoch 16/30\n",
            "23/23 [==============================] - 0s 15ms/step - loss: 0.0066 - acc: 0.9987\n",
            "Epoch 17/30\n",
            "23/23 [==============================] - 0s 16ms/step - loss: 0.0049 - acc: 0.9987\n",
            "Epoch 18/30\n",
            "23/23 [==============================] - 0s 14ms/step - loss: 0.0047 - acc: 0.9987\n",
            "Epoch 19/30\n",
            "23/23 [==============================] - 0s 15ms/step - loss: 0.0036 - acc: 0.9974\n",
            "Epoch 20/30\n",
            "23/23 [==============================] - 0s 15ms/step - loss: 0.0039 - acc: 0.9987\n",
            "Epoch 21/30\n",
            "23/23 [==============================] - 0s 15ms/step - loss: 0.0036 - acc: 0.9987\n",
            "Epoch 22/30\n",
            "23/23 [==============================] - 0s 14ms/step - loss: 0.0056 - acc: 0.9974\n",
            "Epoch 23/30\n",
            "23/23 [==============================] - 0s 15ms/step - loss: 0.0039 - acc: 0.9987\n",
            "Epoch 24/30\n",
            "23/23 [==============================] - 0s 14ms/step - loss: 0.0036 - acc: 0.9974\n",
            "Epoch 25/30\n",
            "23/23 [==============================] - 0s 15ms/step - loss: 0.0032 - acc: 0.9987\n",
            "Epoch 26/30\n",
            "23/23 [==============================] - 0s 15ms/step - loss: 0.0020 - acc: 0.9987\n",
            "Epoch 27/30\n",
            "23/23 [==============================] - 0s 15ms/step - loss: 0.0027 - acc: 0.9987\n",
            "Epoch 28/30\n",
            "23/23 [==============================] - 0s 15ms/step - loss: 0.0025 - acc: 0.9974\n",
            "Epoch 29/30\n",
            "23/23 [==============================] - 0s 15ms/step - loss: 0.0018 - acc: 0.9987\n",
            "Epoch 30/30\n",
            "23/23 [==============================] - 0s 14ms/step - loss: 0.0037 - acc: 0.9987\n"
          ],
          "name": "stdout"
        }
      ]
    },
    {
      "cell_type": "code",
      "metadata": {
        "id": "sNj6ZukJDWZM",
        "colab_type": "code",
        "outputId": "07906415-9e11-49a4-a8fb-85dd1891ce50",
        "colab": {
          "base_uri": "https://localhost:8080/",
          "height": 35
        }
      },
      "source": [
        "model_json = model.to_json()\n",
        "with open(\"digit_recog1.json\", \"w\") as json_file:\n",
        "    json_file.write(model_json)\n",
        "\n",
        "model.save_weights(\"digit_recog1.h5\")\n",
        "print(\"Saved model to disk\")"
      ],
      "execution_count": 0,
      "outputs": [
        {
          "output_type": "stream",
          "text": [
            "Saved model to disk\n"
          ],
          "name": "stdout"
        }
      ]
    },
    {
      "cell_type": "code",
      "metadata": {
        "id": "m9gVaIw6HZ5O",
        "colab_type": "code",
        "colab": {}
      },
      "source": [
        ""
      ],
      "execution_count": 0,
      "outputs": []
    }
  ]
}